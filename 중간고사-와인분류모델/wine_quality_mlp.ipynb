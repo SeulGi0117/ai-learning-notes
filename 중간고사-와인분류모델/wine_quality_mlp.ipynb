{
 "cells": [
  {
   "cell_type": "code",
   "execution_count": 1,
   "id": "4409c22a",
   "metadata": {},
   "outputs": [
    {
     "name": "stdout",
     "output_type": "stream",
     "text": [
      "Accuracy: 0.5450901803607214\n",
      "Accuracy: 54.51%\n",
      "Confusion Matrix:\n",
      " [[289  86  15]\n",
      " [148 178 138]\n",
      " [ 13  54  77]]\n"
     ]
    }
   ],
   "source": [
    "import pandas as pd\n",
    "from sklearn.model_selection import train_test_split\n",
    "from sklearn.neural_network import MLPClassifier\n",
    "from sklearn.metrics import confusion_matrix\n",
    "\n",
    "# 데이터 불러오기\n",
    "train_data = pd.read_csv('C:/Users/ASUS/Documents/winequality_train.csv')\n",
    "test_data = pd.read_csv('C:/Users/ASUS/Documents/winequality_test.csv')\n",
    "\n",
    "# 결측치 확인\n",
    "# print(train_data.isnull().sum())\n",
    "\n",
    "# 결측치 제거\n",
    "train_data = train_data.dropna()\n",
    "test_data = test_data.dropna()\n",
    "\n",
    "# 데이터셋에서 문자열을 숫자로 바꾸기\n",
    "train_data['type'] = train_data['type'].map({'white': 0, 'red': 1})\n",
    "test_data['type'] = test_data['type'].map({'white': 0, 'red': 1})\n",
    "\n",
    "# 입력과 출력 나누기\n",
    "X_train = train_data.drop(['quality'], axis=1)\n",
    "y_train = train_data['quality']\n",
    "X_test = test_data.drop(['quality'], axis=1)\n",
    "y_test = test_data['quality']\n",
    "\n",
    "# MLP 모델 생성\n",
    "mlp = MLPClassifier(hidden_layer_sizes=(100,), max_iter=500)\n",
    "\n",
    "# 모델 학습\n",
    "mlp.fit(X_train, y_train)\n",
    "\n",
    "# 모델 평가\n",
    "print('Accuracy:', mlp.score(X_test[:1000], y_test[:1000]))\n",
    "accuracy = mlp.score(X_test[:1000], y_test[:1000])\n",
    "print('Accuracy: {:.2f}%'.format(accuracy * 100))\n",
    "\n",
    "\n",
    "# 예측 결과를 이용하여 confusion matrix 만들기\n",
    "y_pred = mlp.predict(X_test[:1000])\n",
    "cm = confusion_matrix(y_test[:1000], y_pred)\n",
    "print('Confusion Matrix:\\n', cm)\n"
   ]
  },
  {
   "cell_type": "code",
   "execution_count": null,
   "id": "0de91914",
   "metadata": {},
   "outputs": [],
   "source": []
  }
 ],
 "metadata": {
  "kernelspec": {
   "display_name": "Python 3 (ipykernel)",
   "language": "python",
   "name": "python3"
  },
  "language_info": {
   "codemirror_mode": {
    "name": "ipython",
    "version": 3
   },
   "file_extension": ".py",
   "mimetype": "text/x-python",
   "name": "python",
   "nbconvert_exporter": "python",
   "pygments_lexer": "ipython3",
   "version": "3.9.12"
  }
 },
 "nbformat": 4,
 "nbformat_minor": 5
}
